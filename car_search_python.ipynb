{
 "cells": [
  {
   "cell_type": "markdown",
   "metadata": {},
   "source": [
    "# Using Python and Data Science to Buy a Car\n",
    "# Automating the process of finding good car deals with Python\n",
    "\n",
    "Buying a car can be a troublesome activity. You need to constantly look up\n",
    "dealerships websites to dig for good deals. Usually people spend a few months \n",
    "doing this before reaching a decision on which car to buy. A good option when it comes to used cars, usually involves considering things like, price range, mileage, the year in which the car was manufactured among other things.\n",
    "\n",
    "I need to buy a car but I don't want to do any of that manually, so why not use \n",
    "a bit of Python magic with the help of an organized jupyter notebook and some webscraping to \n",
    "help me in the decision making process?\n",
    "\n",
    "*In this article I will show you how to set up a webscraping and data analysis pipeline with Python and Jupyter Notebooks help with your car search*"
   ]
  },
  {
   "cell_type": "markdown",
   "metadata": {},
   "source": [
    "---"
   ]
  },
  {
   "cell_type": "markdown",
   "metadata": {},
   "source": [
    "# The Steps\n",
    "\n",
    "To get started let's first define the steps of what we want to accomplish:\n",
    "\n",
    "1. Define the target data\n",
    "2. Scrape relevant data\n",
    "3. Data cleaning and preprocessing\n",
    "4. Data Analysis"
   ]
  },
  {
   "cell_type": "markdown",
   "metadata": {},
   "source": [
    "The steps are straight forward, first we will define what we need (the target data),\n",
    "then we will scrape the relevant data we want (its important to remember that the example I will show here will work on a specific website and you should change the scraping code to match the website you intend to scrape). Finally, we will do some data cleaning and preprocessing to be able to run data analysis smoothly, and to finish we will do data analysis on the data, visualizing information about the cars we might consider purchasing to help with reaching a decision.\n",
    "\n",
    "---"
   ]
  },
  {
   "cell_type": "markdown",
   "metadata": {
    "slideshow": {
     "slide_type": "slide"
    }
   },
   "source": [
    "## Define the target data\n",
    "\n",
    "The data we want for this project will be:"
   ]
  },
  {
   "cell_type": "markdown",
   "metadata": {
    "slideshow": {
     "slide_type": "subslide"
    }
   },
   "source": [
    "- Price\n",
    "- Car Brand and Model\n",
    "- Car State (used or new)\n",
    "- Car specs: \n",
    "  - Number of doors\n",
    "  - Number of sits\n",
    "  - Color\n",
    "  - Power\n",
    "  - Mileage\n",
    "  - Fuel\n",
    "  - Year\n",
    "\n",
    "Once we have this data we will save it to a pandas dataframe and start the data cleaning stage."
   ]
  },
  {
   "cell_type": "markdown",
   "metadata": {},
   "source": [
    "## Scrape relevant data\n",
    "\n",
    "To start, let's first define our imports."
   ]
  },
  {
   "cell_type": "code",
   "execution_count": 2,
   "metadata": {
    "slideshow": {
     "slide_type": "fragment"
    }
   },
   "outputs": [],
   "source": [
    "from bs4 import BeautifulSoup\n",
    "import requests\n",
    "import pandas as pd \n",
    "import numpy as np"
   ]
  },
  {
   "cell_type": "markdown",
   "metadata": {},
   "source": [
    "We will be using `beautifulsoup` and the `requests`packages for the webscraping, \n",
    "the `pandas` and `numpy` packages for all the necessary data processing once we have the data."
   ]
  },
  {
   "cell_type": "markdown",
   "metadata": {
    "slideshow": {
     "slide_type": "slide"
    }
   },
   "source": [
    "We start by first defining the website we want to scrape, in my case I will scrape information from a \n",
    "popular portuguese car dealership website."
   ]
  },
  {
   "cell_type": "code",
   "execution_count": 26,
   "metadata": {
    "slideshow": {
     "slide_type": "fragment"
    }
   },
   "outputs": [],
   "source": [
    "website = 'https://www.santogal.pt/search-page/'"
   ]
  },
  {
   "cell_type": "markdown",
   "metadata": {},
   "source": [
    "Now, we will write a function to scrape the data from the website, targeting the information we defined earlier."
   ]
  },
  {
   "cell_type": "code",
   "execution_count": 4,
   "metadata": {
    "slideshow": {
     "slide_type": "slide"
    }
   },
   "outputs": [],
   "source": [
    "# Turning everything into a function\n",
    "\n",
    "def scrape_page(results):\n",
    "    car_info = dict()\n",
    "    for deal_index,result in enumerate(results):\n",
    "        car_info[deal_index] = {}\n",
    "        car_info[deal_index][\"car_price\"] = result.find('div', {\"class\": \"price-container\"}).get_text().strip()\n",
    "        car_info[deal_index][\"car_brand\"] = result.find('h2').get_text().strip()\n",
    "        car_info[deal_index][\"car_model\"] = result.find('h3').get_text().strip()\n",
    "        car_info[deal_index][\"car_state\"] = result.find('header').get_text().strip()\n",
    "        car_info[deal_index][\"mileage\"] = result.find('div', {\"class\": 'col-info-car'}).find_all('span')[0].get_text().strip()\n",
    "        car_info[deal_index][\"fuel\"] = result.find('div', {\"class\": 'col-info-car'}).find_all('span')[2].get_text().strip()\n",
    "        car_info[deal_index][\"year\"] = result.find_all('div', {\"class\": 'col-info-car'})[1].find_all('span')[0].get_text().strip()\n",
    "    \n",
    "    return car_info"
   ]
  },
  {
   "cell_type": "markdown",
   "metadata": {},
   "source": [
    "Notice that for this example we scraped the car prices, mileage and fuel information from different `divs` found in the website search page, for the brand and model we had to find the `h2` and `h3` headers and similarly we used the `header` tag to find information about the car state (used or new), \n",
    "although this structure only works for this specific website, the differences between websites should not be too great so the adjustments necessary to have this working for your particular use case should not be too costly."
   ]
  },
  {
   "cell_type": "markdown",
   "metadata": {
    "slideshow": {
     "slide_type": "slide"
    }
   },
   "source": [
    "**Getting Car Specifications**\n",
    "\n",
    "Now, for scraping more specific information about the cars like the number of doors and color,\n",
    "we had to write a custom function that scrapes from each car deal url, meaning, for each \n",
    "car we had to access their respective url (within the website's search page) and scrape the specific information contained inside."
   ]
  },
  {
   "cell_type": "code",
   "execution_count": 5,
   "metadata": {
    "slideshow": {
     "slide_type": "fragment"
    }
   },
   "outputs": [],
   "source": [
    "def get_car_specs(url):    \n",
    "    \"\"\"\n",
    "    Function that scrapes the url for a specific car and gets more information \n",
    "    about the car, namely: number of doors, sits, color and horse power.\n",
    "    \"\"\"\n",
    "    car_specs = dict()\n",
    "    response = requests.get(url)\n",
    "    soup = BeautifulSoup(response.content, 'html.parser')\n",
    "    characteristics_info = soup.find_all(\"dt\")\n",
    "    characteristics_data = soup.find_all(\"dd\")\n",
    "    for ch_info,ch_dt in zip(characteristics_info, characteristics_data):\n",
    "        if ch_info.get_text().strip() == \"Portas\":\n",
    "            car_specs[\"num_doors\"] = ch_dt.get_text().strip()\n",
    "        if ch_info.get_text().strip() == \"Lugares\":\n",
    "            car_specs[\"num_sits\"] = ch_dt.get_text().strip()\n",
    "        if ch_info.get_text().strip() == \"Cor\":\n",
    "            car_specs[\"color\"] = ch_dt.get_text().strip()\n",
    "        if ch_info.get_text().strip() == \"Potência\":\n",
    "            car_specs[\"horse_power\"] = ch_dt.get_text().strip()\n",
    "\n",
    "    return car_specs"
   ]
  },
  {
   "cell_type": "markdown",
   "metadata": {},
   "source": [
    "For this partciular case, I had to scrape the car's information from two different tags\n",
    "`<dt>` and `<dd>` which are usually used for descriptions of items.\n",
    "\n",
    "Once I found all of such tags I realized that the information was structured so that I could just run a for loop over the tags and get the desired characteristic by matching a string (in this case the words were in Portuguese)."
   ]
  },
  {
   "cell_type": "markdown",
   "metadata": {},
   "source": [
    "**Running the main scraper function**\n",
    "\n",
    "Now that I have two functions that can get all the information I desire, all I need to do is set up a for loop over all the available pages inside the main search page of the website."
   ]
  },
  {
   "cell_type": "code",
   "execution_count": 27,
   "metadata": {
    "slideshow": {
     "slide_type": "slide"
    }
   },
   "outputs": [],
   "source": [
    "try:\n",
    "    website = 'https://www.santogal.pt/search-page/'\n",
    "    response = requests.get(website)\n",
    "    soup = BeautifulSoup(response.content, 'html.parser')\n",
    "    num_pages = soup.find('div', {'class' : 'pagination_container'}).find(\"div\", {\"class\": \"last_page\"}).get('data-page')\n",
    "    num_pages = int(num_pages)\n",
    "except ValueError:\n",
    "    print(\"Something wrong with the scraping of the text,\\\n",
    "          not returning a number, setting page number to 59 manually\")\n",
    "    num_pages = 59\n",
    "    \n",
    "for i in range(1,num_pages):\n",
    "    website = f\"https://www.santogal.pt/search-page/?pagina={i}\"\n",
    "    response = requests.get(website)\n",
    "    soup = BeautifulSoup(response.content, 'html.parser')\n",
    "    results = soup.find_all('div', {'class' : 'card_car type--usado'})\n",
    "    if len(results)>0:\n",
    "        car_info = scrape_page(results)\n",
    "        # get the link for each car found in the find_all output\n",
    "        website_root = f\"https://www.santogal.pt\"\n",
    "        for deal_index,result in enumerate(results):\n",
    "            car_info[deal_index][\"url\"] = website_root+result.find('a').get('href')\n",
    "        \n",
    "        page_data = pd.DataFrame.from_dict(car_info, orient='index')\n",
    "            \n",
    "    if i==1:\n",
    "        car_data = page_data \n",
    "    \n",
    "    car_data = car_data.append(page_data, ignore_index=True)"
   ]
  },
  {
   "cell_type": "markdown",
   "metadata": {},
   "source": [
    "What this function does is, first it discovers how many pages exist for us to scrape:\n",
    "\n",
    "```\n",
    "website = 'https://www.santogal.pt/search-page/'\n",
    "response = requests.get(website)\n",
    "soup = BeautifulSoup(response.content, 'html.parser')\n",
    "num_pages = soup.find('div', {'class' : 'pagination_container'}).find(\"div\", {\"class\": \"last_page\"}).get('data-page')\n",
    "num_pages = int(num_pages)\n",
    "```"
   ]
  },
  {
   "cell_type": "markdown",
   "metadata": {},
   "source": [
    "and then, it uses the number of pages discovered to loop over each page, scraping the information\n",
    "from it and appending it to a pandas dataframe.\n",
    "\n",
    "Although this is a custom example for the website in question, I think the main structure here can be reused to any search page of your choice.\n",
    "\n",
    "We can now take a look at the data we scraped."
   ]
  },
  {
   "cell_type": "code",
   "execution_count": 28,
   "metadata": {},
   "outputs": [
    {
     "data": {
      "text/html": [
       "<div>\n",
       "<style scoped>\n",
       "    .dataframe tbody tr th:only-of-type {\n",
       "        vertical-align: middle;\n",
       "    }\n",
       "\n",
       "    .dataframe tbody tr th {\n",
       "        vertical-align: top;\n",
       "    }\n",
       "\n",
       "    .dataframe thead th {\n",
       "        text-align: right;\n",
       "    }\n",
       "</style>\n",
       "<table border=\"1\" class=\"dataframe\">\n",
       "  <thead>\n",
       "    <tr style=\"text-align: right;\">\n",
       "      <th></th>\n",
       "      <th>car_price</th>\n",
       "      <th>car_brand</th>\n",
       "      <th>car_model</th>\n",
       "      <th>car_state</th>\n",
       "      <th>mileage</th>\n",
       "      <th>fuel</th>\n",
       "      <th>year</th>\n",
       "      <th>url</th>\n",
       "    </tr>\n",
       "  </thead>\n",
       "  <tbody>\n",
       "    <tr>\n",
       "      <th>0</th>\n",
       "      <td>24.990€</td>\n",
       "      <td>BMW</td>\n",
       "      <td>116 i Advantage</td>\n",
       "      <td>Usado</td>\n",
       "      <td>36.794 Kms</td>\n",
       "      <td>Gasolina</td>\n",
       "      <td>2018</td>\n",
       "      <td>https://www.santogal.pt/car-detail/bmw/serie-1...</td>\n",
       "    </tr>\n",
       "    <tr>\n",
       "      <th>1</th>\n",
       "      <td>42.490€\\n39.990€</td>\n",
       "      <td>MERCEDES</td>\n",
       "      <td>A 45 AMG 4-Matic</td>\n",
       "      <td>Low Cost\\n\\nNovo Preço</td>\n",
       "      <td>29.064 Kms</td>\n",
       "      <td>Gasolina</td>\n",
       "      <td>2014</td>\n",
       "      <td>https://www.santogal.pt/car-detail/mercedes/cl...</td>\n",
       "    </tr>\n",
       "    <tr>\n",
       "      <th>2</th>\n",
       "      <td>22.990€</td>\n",
       "      <td>VOLVO</td>\n",
       "      <td>V40 1.5 T3 Sport Edition Geartr...</td>\n",
       "      <td>Usado</td>\n",
       "      <td>47.128 Kms</td>\n",
       "      <td>Gasolina</td>\n",
       "      <td>2018</td>\n",
       "      <td>https://www.santogal.pt/car-detail/volvo/v40/v...</td>\n",
       "    </tr>\n",
       "    <tr>\n",
       "      <th>3</th>\n",
       "      <td>28.490€</td>\n",
       "      <td>MINI</td>\n",
       "      <td>Cooper</td>\n",
       "      <td>Usado</td>\n",
       "      <td>37.506 Kms</td>\n",
       "      <td>Gasolina</td>\n",
       "      <td>2019</td>\n",
       "      <td>https://www.santogal.pt/car-detail/mini/mini/m...</td>\n",
       "    </tr>\n",
       "    <tr>\n",
       "      <th>4</th>\n",
       "      <td>19.500€\\n18.490€</td>\n",
       "      <td>CITROEN</td>\n",
       "      <td>C4 Cactus 1.2 PureTech OneTone</td>\n",
       "      <td>Usado\\n\\nNovo Preço</td>\n",
       "      <td>62.003 Kms</td>\n",
       "      <td>Gasolina</td>\n",
       "      <td>2017</td>\n",
       "      <td>https://www.santogal.pt/car-detail/citroen/c4-...</td>\n",
       "    </tr>\n",
       "  </tbody>\n",
       "</table>\n",
       "</div>"
      ],
      "text/plain": [
       "          car_price car_brand                           car_model  \\\n",
       "0           24.990€       BMW                     116 i Advantage   \n",
       "1  42.490€\\n39.990€  MERCEDES                    A 45 AMG 4-Matic   \n",
       "2           22.990€     VOLVO  V40 1.5 T3 Sport Edition Geartr...   \n",
       "3           28.490€      MINI                              Cooper   \n",
       "4  19.500€\\n18.490€   CITROEN      C4 Cactus 1.2 PureTech OneTone   \n",
       "\n",
       "                car_state     mileage      fuel  year  \\\n",
       "0                   Usado  36.794 Kms  Gasolina  2018   \n",
       "1  Low Cost\\n\\nNovo Preço  29.064 Kms  Gasolina  2014   \n",
       "2                   Usado  47.128 Kms  Gasolina  2018   \n",
       "3                   Usado  37.506 Kms  Gasolina  2019   \n",
       "4     Usado\\n\\nNovo Preço  62.003 Kms  Gasolina  2017   \n",
       "\n",
       "                                                 url  \n",
       "0  https://www.santogal.pt/car-detail/bmw/serie-1...  \n",
       "1  https://www.santogal.pt/car-detail/mercedes/cl...  \n",
       "2  https://www.santogal.pt/car-detail/volvo/v40/v...  \n",
       "3  https://www.santogal.pt/car-detail/mini/mini/m...  \n",
       "4  https://www.santogal.pt/car-detail/citroen/c4-...  "
      ]
     },
     "execution_count": 28,
     "metadata": {},
     "output_type": "execute_result"
    }
   ],
   "source": [
    "car_data.head()"
   ]
  },
  {
   "cell_type": "markdown",
   "metadata": {},
   "source": [
    "All right, first part completed! Now that we have all the data we need, let's clean it to be able to run data analysis."
   ]
  },
  {
   "cell_type": "markdown",
   "metadata": {
    "slideshow": {
     "slide_type": "slide"
    }
   },
   "source": [
    "## Data cleaning and preprocessing\n",
    "\n",
    "For this part we will need to set up a few custom functions that will handle common issues with data scraped from the internet, things like, string issues when numbers are mixed with other characters,\n",
    "having commas instead of points among other things. \n",
    "\n",
    "Let's start with the price column."
   ]
  },
  {
   "cell_type": "code",
   "execution_count": 7,
   "metadata": {
    "slideshow": {
     "slide_type": "subslide"
    }
   },
   "outputs": [
    {
     "data": {
      "text/html": [
       "<div>\n",
       "<style scoped>\n",
       "    .dataframe tbody tr th:only-of-type {\n",
       "        vertical-align: middle;\n",
       "    }\n",
       "\n",
       "    .dataframe tbody tr th {\n",
       "        vertical-align: top;\n",
       "    }\n",
       "\n",
       "    .dataframe thead th {\n",
       "        text-align: right;\n",
       "    }\n",
       "</style>\n",
       "<table border=\"1\" class=\"dataframe\">\n",
       "  <thead>\n",
       "    <tr style=\"text-align: right;\">\n",
       "      <th></th>\n",
       "      <th>car_price</th>\n",
       "      <th>car_brand</th>\n",
       "      <th>car_model</th>\n",
       "      <th>car_state</th>\n",
       "      <th>mileage</th>\n",
       "      <th>fuel</th>\n",
       "      <th>year</th>\n",
       "      <th>url</th>\n",
       "    </tr>\n",
       "  </thead>\n",
       "  <tbody>\n",
       "    <tr>\n",
       "      <th>0</th>\n",
       "      <td>24990</td>\n",
       "      <td>BMW</td>\n",
       "      <td>116 i Advantage</td>\n",
       "      <td>Usado</td>\n",
       "      <td>36.794 Kms</td>\n",
       "      <td>Gasolina</td>\n",
       "      <td>2018</td>\n",
       "      <td>https://www.santogal.pt/car-detail/bmw/serie-1...</td>\n",
       "    </tr>\n",
       "    <tr>\n",
       "      <th>1</th>\n",
       "      <td>39990</td>\n",
       "      <td>MERCEDES</td>\n",
       "      <td>A 45 AMG 4-Matic</td>\n",
       "      <td>Low Cost\\n\\nNovo Preço</td>\n",
       "      <td>29.064 Kms</td>\n",
       "      <td>Gasolina</td>\n",
       "      <td>2014</td>\n",
       "      <td>https://www.santogal.pt/car-detail/mercedes/cl...</td>\n",
       "    </tr>\n",
       "    <tr>\n",
       "      <th>2</th>\n",
       "      <td>22990</td>\n",
       "      <td>VOLVO</td>\n",
       "      <td>V40 1.5 T3 Sport Edition Geartr...</td>\n",
       "      <td>Usado</td>\n",
       "      <td>47.128 Kms</td>\n",
       "      <td>Gasolina</td>\n",
       "      <td>2018</td>\n",
       "      <td>https://www.santogal.pt/car-detail/volvo/v40/v...</td>\n",
       "    </tr>\n",
       "    <tr>\n",
       "      <th>3</th>\n",
       "      <td>28490</td>\n",
       "      <td>MINI</td>\n",
       "      <td>Cooper</td>\n",
       "      <td>Usado</td>\n",
       "      <td>37.506 Kms</td>\n",
       "      <td>Gasolina</td>\n",
       "      <td>2019</td>\n",
       "      <td>https://www.santogal.pt/car-detail/mini/mini/m...</td>\n",
       "    </tr>\n",
       "    <tr>\n",
       "      <th>4</th>\n",
       "      <td>18490</td>\n",
       "      <td>CITROEN</td>\n",
       "      <td>C4 Cactus 1.2 PureTech OneTone</td>\n",
       "      <td>Usado\\n\\nNovo Preço</td>\n",
       "      <td>62.003 Kms</td>\n",
       "      <td>Gasolina</td>\n",
       "      <td>2017</td>\n",
       "      <td>https://www.santogal.pt/car-detail/citroen/c4-...</td>\n",
       "    </tr>\n",
       "  </tbody>\n",
       "</table>\n",
       "</div>"
      ],
      "text/plain": [
       "   car_price car_brand                           car_model  \\\n",
       "0      24990       BMW                     116 i Advantage   \n",
       "1      39990  MERCEDES                    A 45 AMG 4-Matic   \n",
       "2      22990     VOLVO  V40 1.5 T3 Sport Edition Geartr...   \n",
       "3      28490      MINI                              Cooper   \n",
       "4      18490   CITROEN      C4 Cactus 1.2 PureTech OneTone   \n",
       "\n",
       "                car_state     mileage      fuel  year  \\\n",
       "0                   Usado  36.794 Kms  Gasolina  2018   \n",
       "1  Low Cost\\n\\nNovo Preço  29.064 Kms  Gasolina  2014   \n",
       "2                   Usado  47.128 Kms  Gasolina  2018   \n",
       "3                   Usado  37.506 Kms  Gasolina  2019   \n",
       "4     Usado\\n\\nNovo Preço  62.003 Kms  Gasolina  2017   \n",
       "\n",
       "                                                 url  \n",
       "0  https://www.santogal.pt/car-detail/bmw/serie-1...  \n",
       "1  https://www.santogal.pt/car-detail/mercedes/cl...  \n",
       "2  https://www.santogal.pt/car-detail/volvo/v40/v...  \n",
       "3  https://www.santogal.pt/car-detail/mini/mini/m...  \n",
       "4  https://www.santogal.pt/car-detail/citroen/c4-...  "
      ]
     },
     "execution_count": 7,
     "metadata": {},
     "output_type": "execute_result"
    }
   ],
   "source": [
    "def clean_price_data(price_data):\n",
    "    if len(price_data.split('\\n'))>1:\n",
    "        return price_data.split('\\n')[1].replace(\".\",\"\").replace(\"€\",\"\").strip()\n",
    "    else:\n",
    "        return price_data.replace(\".\",\"\").replace(\"€\",\"\").strip()\n",
    "# only keep the car_price information after the \\n string\n",
    "car_data['car_price'] = car_data['car_price'].apply(clean_price_data).astype(\"int\")\n",
    "car_data.head()"
   ]
  },
  {
   "cell_type": "markdown",
   "metadata": {},
   "source": [
    "Here I am removing the euro sign from the price rows to be able to convert the column to\n",
    "an integer type which will allow me to more easily visualize the price information."
   ]
  },
  {
   "cell_type": "code",
   "execution_count": 8,
   "metadata": {
    "slideshow": {
     "slide_type": "slide"
    }
   },
   "outputs": [
    {
     "data": {
      "text/html": [
       "<div>\n",
       "<style scoped>\n",
       "    .dataframe tbody tr th:only-of-type {\n",
       "        vertical-align: middle;\n",
       "    }\n",
       "\n",
       "    .dataframe tbody tr th {\n",
       "        vertical-align: top;\n",
       "    }\n",
       "\n",
       "    .dataframe thead th {\n",
       "        text-align: right;\n",
       "    }\n",
       "</style>\n",
       "<table border=\"1\" class=\"dataframe\">\n",
       "  <thead>\n",
       "    <tr style=\"text-align: right;\">\n",
       "      <th></th>\n",
       "      <th>car_price</th>\n",
       "      <th>car_brand</th>\n",
       "      <th>car_model</th>\n",
       "      <th>car_state</th>\n",
       "      <th>mileage</th>\n",
       "      <th>fuel</th>\n",
       "      <th>year</th>\n",
       "      <th>url</th>\n",
       "    </tr>\n",
       "  </thead>\n",
       "  <tbody>\n",
       "    <tr>\n",
       "      <th>0</th>\n",
       "      <td>24990</td>\n",
       "      <td>BMW</td>\n",
       "      <td>116 i Advantage</td>\n",
       "      <td>Usado</td>\n",
       "      <td>36.794 Kms</td>\n",
       "      <td>Gasolina</td>\n",
       "      <td>2018</td>\n",
       "      <td>https://www.santogal.pt/car-detail/bmw/serie-1...</td>\n",
       "    </tr>\n",
       "    <tr>\n",
       "      <th>1</th>\n",
       "      <td>39990</td>\n",
       "      <td>MERCEDES</td>\n",
       "      <td>A 45 AMG 4-Matic</td>\n",
       "      <td>NaN</td>\n",
       "      <td>29.064 Kms</td>\n",
       "      <td>Gasolina</td>\n",
       "      <td>2014</td>\n",
       "      <td>https://www.santogal.pt/car-detail/mercedes/cl...</td>\n",
       "    </tr>\n",
       "    <tr>\n",
       "      <th>2</th>\n",
       "      <td>22990</td>\n",
       "      <td>VOLVO</td>\n",
       "      <td>V40 1.5 T3 Sport Edition Geartr...</td>\n",
       "      <td>Usado</td>\n",
       "      <td>47.128 Kms</td>\n",
       "      <td>Gasolina</td>\n",
       "      <td>2018</td>\n",
       "      <td>https://www.santogal.pt/car-detail/volvo/v40/v...</td>\n",
       "    </tr>\n",
       "    <tr>\n",
       "      <th>3</th>\n",
       "      <td>28490</td>\n",
       "      <td>MINI</td>\n",
       "      <td>Cooper</td>\n",
       "      <td>Usado</td>\n",
       "      <td>37.506 Kms</td>\n",
       "      <td>Gasolina</td>\n",
       "      <td>2019</td>\n",
       "      <td>https://www.santogal.pt/car-detail/mini/mini/m...</td>\n",
       "    </tr>\n",
       "    <tr>\n",
       "      <th>4</th>\n",
       "      <td>18490</td>\n",
       "      <td>CITROEN</td>\n",
       "      <td>C4 Cactus 1.2 PureTech OneTone</td>\n",
       "      <td>NaN</td>\n",
       "      <td>62.003 Kms</td>\n",
       "      <td>Gasolina</td>\n",
       "      <td>2017</td>\n",
       "      <td>https://www.santogal.pt/car-detail/citroen/c4-...</td>\n",
       "    </tr>\n",
       "  </tbody>\n",
       "</table>\n",
       "</div>"
      ],
      "text/plain": [
       "   car_price car_brand                           car_model car_state  \\\n",
       "0      24990       BMW                     116 i Advantage     Usado   \n",
       "1      39990  MERCEDES                    A 45 AMG 4-Matic       NaN   \n",
       "2      22990     VOLVO  V40 1.5 T3 Sport Edition Geartr...     Usado   \n",
       "3      28490      MINI                              Cooper     Usado   \n",
       "4      18490   CITROEN      C4 Cactus 1.2 PureTech OneTone       NaN   \n",
       "\n",
       "      mileage      fuel  year  \\\n",
       "0  36.794 Kms  Gasolina  2018   \n",
       "1  29.064 Kms  Gasolina  2014   \n",
       "2  47.128 Kms  Gasolina  2018   \n",
       "3  37.506 Kms  Gasolina  2019   \n",
       "4  62.003 Kms  Gasolina  2017   \n",
       "\n",
       "                                                 url  \n",
       "0  https://www.santogal.pt/car-detail/bmw/serie-1...  \n",
       "1  https://www.santogal.pt/car-detail/mercedes/cl...  \n",
       "2  https://www.santogal.pt/car-detail/volvo/v40/v...  \n",
       "3  https://www.santogal.pt/car-detail/mini/mini/m...  \n",
       "4  https://www.santogal.pt/car-detail/citroen/c4-...  "
      ]
     },
     "execution_count": 8,
     "metadata": {},
     "output_type": "execute_result"
    }
   ],
   "source": [
    "def clean_state_info(state_info):\n",
    "    if len(state_info.split('\\n'))>1:\n",
    "        return state_info.split('\\n')[1]\n",
    "    else:\n",
    "        return state_info\n",
    "# only keep the car_price information after the \\n string\n",
    "car_data['car_state'] = car_data['car_state'].apply(clean_state_info)\n",
    "car_data[\"car_state\"] = car_data[\"car_state\"].apply(lambda x: np.nan if x=='' else x)\n",
    "car_data.head()"
   ]
  },
  {
   "cell_type": "markdown",
   "metadata": {},
   "source": [
    "Here we remove some clutter from the `car_state` column to show only if the car is used or not,\n",
    "in this case the word 'Usado' means used in portuguese."
   ]
  },
  {
   "cell_type": "code",
   "execution_count": 29,
   "metadata": {
    "slideshow": {
     "slide_type": "slide"
    }
   },
   "outputs": [
    {
     "data": {
      "text/html": [
       "<div>\n",
       "<style scoped>\n",
       "    .dataframe tbody tr th:only-of-type {\n",
       "        vertical-align: middle;\n",
       "    }\n",
       "\n",
       "    .dataframe tbody tr th {\n",
       "        vertical-align: top;\n",
       "    }\n",
       "\n",
       "    .dataframe thead th {\n",
       "        text-align: right;\n",
       "    }\n",
       "</style>\n",
       "<table border=\"1\" class=\"dataframe\">\n",
       "  <thead>\n",
       "    <tr style=\"text-align: right;\">\n",
       "      <th></th>\n",
       "      <th>car_price</th>\n",
       "      <th>car_brand</th>\n",
       "      <th>car_model</th>\n",
       "      <th>car_state</th>\n",
       "      <th>mileage</th>\n",
       "      <th>fuel</th>\n",
       "      <th>year</th>\n",
       "      <th>url</th>\n",
       "    </tr>\n",
       "  </thead>\n",
       "  <tbody>\n",
       "    <tr>\n",
       "      <th>0</th>\n",
       "      <td>24.990€</td>\n",
       "      <td>BMW</td>\n",
       "      <td>116 i Advantage</td>\n",
       "      <td>Usado</td>\n",
       "      <td>36794</td>\n",
       "      <td>Gasolina</td>\n",
       "      <td>2018</td>\n",
       "      <td>https://www.santogal.pt/car-detail/bmw/serie-1...</td>\n",
       "    </tr>\n",
       "    <tr>\n",
       "      <th>1</th>\n",
       "      <td>42.490€\\n39.990€</td>\n",
       "      <td>MERCEDES</td>\n",
       "      <td>A 45 AMG 4-Matic</td>\n",
       "      <td>Low Cost\\n\\nNovo Preço</td>\n",
       "      <td>29064</td>\n",
       "      <td>Gasolina</td>\n",
       "      <td>2014</td>\n",
       "      <td>https://www.santogal.pt/car-detail/mercedes/cl...</td>\n",
       "    </tr>\n",
       "    <tr>\n",
       "      <th>2</th>\n",
       "      <td>22.990€</td>\n",
       "      <td>VOLVO</td>\n",
       "      <td>V40 1.5 T3 Sport Edition Geartr...</td>\n",
       "      <td>Usado</td>\n",
       "      <td>47128</td>\n",
       "      <td>Gasolina</td>\n",
       "      <td>2018</td>\n",
       "      <td>https://www.santogal.pt/car-detail/volvo/v40/v...</td>\n",
       "    </tr>\n",
       "    <tr>\n",
       "      <th>3</th>\n",
       "      <td>28.490€</td>\n",
       "      <td>MINI</td>\n",
       "      <td>Cooper</td>\n",
       "      <td>Usado</td>\n",
       "      <td>37506</td>\n",
       "      <td>Gasolina</td>\n",
       "      <td>2019</td>\n",
       "      <td>https://www.santogal.pt/car-detail/mini/mini/m...</td>\n",
       "    </tr>\n",
       "    <tr>\n",
       "      <th>4</th>\n",
       "      <td>19.500€\\n18.490€</td>\n",
       "      <td>CITROEN</td>\n",
       "      <td>C4 Cactus 1.2 PureTech OneTone</td>\n",
       "      <td>Usado\\n\\nNovo Preço</td>\n",
       "      <td>62003</td>\n",
       "      <td>Gasolina</td>\n",
       "      <td>2017</td>\n",
       "      <td>https://www.santogal.pt/car-detail/citroen/c4-...</td>\n",
       "    </tr>\n",
       "  </tbody>\n",
       "</table>\n",
       "</div>"
      ],
      "text/plain": [
       "          car_price car_brand                           car_model  \\\n",
       "0           24.990€       BMW                     116 i Advantage   \n",
       "1  42.490€\\n39.990€  MERCEDES                    A 45 AMG 4-Matic   \n",
       "2           22.990€     VOLVO  V40 1.5 T3 Sport Edition Geartr...   \n",
       "3           28.490€      MINI                              Cooper   \n",
       "4  19.500€\\n18.490€   CITROEN      C4 Cactus 1.2 PureTech OneTone   \n",
       "\n",
       "                car_state  mileage      fuel  year  \\\n",
       "0                   Usado    36794  Gasolina  2018   \n",
       "1  Low Cost\\n\\nNovo Preço    29064  Gasolina  2014   \n",
       "2                   Usado    47128  Gasolina  2018   \n",
       "3                   Usado    37506  Gasolina  2019   \n",
       "4     Usado\\n\\nNovo Preço    62003  Gasolina  2017   \n",
       "\n",
       "                                                 url  \n",
       "0  https://www.santogal.pt/car-detail/bmw/serie-1...  \n",
       "1  https://www.santogal.pt/car-detail/mercedes/cl...  \n",
       "2  https://www.santogal.pt/car-detail/volvo/v40/v...  \n",
       "3  https://www.santogal.pt/car-detail/mini/mini/m...  \n",
       "4  https://www.santogal.pt/car-detail/citroen/c4-...  "
      ]
     },
     "execution_count": 29,
     "metadata": {},
     "output_type": "execute_result"
    }
   ],
   "source": [
    "def clean_mileage_info(mileage_info):\n",
    "    return mileage_info.replace(\"Kms\",\"\").replace(\".\",\"\").strip()\n",
    "# only keep the car_price information after the \\n string\n",
    "car_data['mileage'] = car_data['mileage'].apply(clean_mileage_info).astype('int')\n",
    "car_data.head()"
   ]
  },
  {
   "cell_type": "markdown",
   "metadata": {},
   "source": [
    "Now, this function removes the `Kms` string from the mileage column, subsequently \n",
    "we turn that column into integer type just like in the price column for the same reasons."
   ]
  },
  {
   "cell_type": "code",
   "execution_count": 32,
   "metadata": {
    "slideshow": {
     "slide_type": "subslide"
    }
   },
   "outputs": [
    {
     "data": {
      "text/plain": [
       "dtype('int64')"
      ]
     },
     "execution_count": 32,
     "metadata": {},
     "output_type": "execute_result"
    }
   ],
   "source": [
    "# cleaning year data\n",
    "car_data['year'] = pd.to_datetime(car_data['year']).dt.year"
   ]
  },
  {
   "cell_type": "markdown",
   "metadata": {},
   "source": [
    "As for the year column we just turn it into integer (which is the output of the year attribute of the datetime object)."
   ]
  },
  {
   "cell_type": "markdown",
   "metadata": {
    "slideshow": {
     "slide_type": "slide"
    }
   },
   "source": [
    "**Updating to CSV Car Database**\n",
    "\n",
    "Now that our data is cleaned, we are ready to save it, since I had already done this before, I alrady had a csv file with the data I scraped, so here I will just be updating that file with the newly scraped data, for this part I am still considering which approach would be best to avoid issues like duplicates and changes to the website (like an old deal that is no longer available), but for now all I am doing is reading the local csv file, concatenating it with the newly scraped dataset and droping the duplicate entries. "
   ]
  },
  {
   "cell_type": "code",
   "execution_count": 11,
   "metadata": {
    "slideshow": {
     "slide_type": "subslide"
    }
   },
   "outputs": [
    {
     "name": "stdout",
     "output_type": "stream",
     "text": [
      "Number of duplicates 0\n",
      "Number of rows 1214\n"
     ]
    },
    {
     "data": {
      "text/html": [
       "<div>\n",
       "<style scoped>\n",
       "    .dataframe tbody tr th:only-of-type {\n",
       "        vertical-align: middle;\n",
       "    }\n",
       "\n",
       "    .dataframe tbody tr th {\n",
       "        vertical-align: top;\n",
       "    }\n",
       "\n",
       "    .dataframe thead th {\n",
       "        text-align: right;\n",
       "    }\n",
       "</style>\n",
       "<table border=\"1\" class=\"dataframe\">\n",
       "  <thead>\n",
       "    <tr style=\"text-align: right;\">\n",
       "      <th></th>\n",
       "      <th>car_price</th>\n",
       "      <th>car_brand</th>\n",
       "      <th>car_model</th>\n",
       "      <th>car_state</th>\n",
       "      <th>mileage</th>\n",
       "      <th>fuel</th>\n",
       "      <th>year</th>\n",
       "      <th>url</th>\n",
       "    </tr>\n",
       "  </thead>\n",
       "  <tbody>\n",
       "    <tr>\n",
       "      <th>0</th>\n",
       "      <td>24990</td>\n",
       "      <td>BMW</td>\n",
       "      <td>116 i Advantage</td>\n",
       "      <td>Usado</td>\n",
       "      <td>36794</td>\n",
       "      <td>Gasolina</td>\n",
       "      <td>2018</td>\n",
       "      <td>https://www.santogal.pt/car-detail/bmw/serie-1...</td>\n",
       "    </tr>\n",
       "    <tr>\n",
       "      <th>1</th>\n",
       "      <td>39990</td>\n",
       "      <td>MERCEDES</td>\n",
       "      <td>A 45 AMG 4-Matic</td>\n",
       "      <td>NaN</td>\n",
       "      <td>29064</td>\n",
       "      <td>Gasolina</td>\n",
       "      <td>2014</td>\n",
       "      <td>https://www.santogal.pt/car-detail/mercedes/cl...</td>\n",
       "    </tr>\n",
       "    <tr>\n",
       "      <th>2</th>\n",
       "      <td>22990</td>\n",
       "      <td>VOLVO</td>\n",
       "      <td>V40 1.5 T3 Sport Edition Geartr...</td>\n",
       "      <td>Usado</td>\n",
       "      <td>47128</td>\n",
       "      <td>Gasolina</td>\n",
       "      <td>2018</td>\n",
       "      <td>https://www.santogal.pt/car-detail/volvo/v40/v...</td>\n",
       "    </tr>\n",
       "    <tr>\n",
       "      <th>3</th>\n",
       "      <td>23990</td>\n",
       "      <td>MINI</td>\n",
       "      <td>Cooper S</td>\n",
       "      <td>Usado</td>\n",
       "      <td>34878</td>\n",
       "      <td>Gasolina</td>\n",
       "      <td>2015</td>\n",
       "      <td>https://www.santogal.pt/car-detail/mini/mini/m...</td>\n",
       "    </tr>\n",
       "    <tr>\n",
       "      <th>4</th>\n",
       "      <td>18490</td>\n",
       "      <td>CITROEN</td>\n",
       "      <td>C4 Cactus 1.2 PureTech OneTone</td>\n",
       "      <td>NaN</td>\n",
       "      <td>62003</td>\n",
       "      <td>Gasolina</td>\n",
       "      <td>2017</td>\n",
       "      <td>https://www.santogal.pt/car-detail/citroen/c4-...</td>\n",
       "    </tr>\n",
       "  </tbody>\n",
       "</table>\n",
       "</div>"
      ],
      "text/plain": [
       "   car_price car_brand                           car_model car_state  mileage  \\\n",
       "0      24990       BMW                     116 i Advantage     Usado    36794   \n",
       "1      39990  MERCEDES                    A 45 AMG 4-Matic       NaN    29064   \n",
       "2      22990     VOLVO  V40 1.5 T3 Sport Edition Geartr...     Usado    47128   \n",
       "3      23990      MINI                            Cooper S     Usado    34878   \n",
       "4      18490   CITROEN      C4 Cactus 1.2 PureTech OneTone       NaN    62003   \n",
       "\n",
       "       fuel  year                                                url  \n",
       "0  Gasolina  2018  https://www.santogal.pt/car-detail/bmw/serie-1...  \n",
       "1  Gasolina  2014  https://www.santogal.pt/car-detail/mercedes/cl...  \n",
       "2  Gasolina  2018  https://www.santogal.pt/car-detail/volvo/v40/v...  \n",
       "3  Gasolina  2015  https://www.santogal.pt/car-detail/mini/mini/m...  \n",
       "4  Gasolina  2017  https://www.santogal.pt/car-detail/citroen/c4-...  "
      ]
     },
     "execution_count": 11,
     "metadata": {},
     "output_type": "execute_result"
    }
   ],
   "source": [
    "car_data_current = pd.read_csv(\"car_data.csv\")\n",
    "car_concat = pd.concat([car_data_current, car_data]).drop_duplicates().reset_index(drop=True)\n",
    "print(\"Number of duplicates\", car_concat.duplicated().sum())\n",
    "print(\"Number of rows\", len(car_concat))\n",
    "car_concat.head()"
   ]
  },
  {
   "cell_type": "markdown",
   "metadata": {},
   "source": [
    "And finally I save it to a csv file again."
   ]
  },
  {
   "cell_type": "code",
   "execution_count": 12,
   "metadata": {
    "slideshow": {
     "slide_type": "slide"
    }
   },
   "outputs": [],
   "source": [
    "car_concat.to_csv('car_data.csv', index=False)"
   ]
  },
  {
   "cell_type": "markdown",
   "metadata": {
    "slideshow": {
     "slide_type": "slide"
    }
   },
   "source": [
    "## Data Analysis"
   ]
  },
  {
   "cell_type": "markdown",
   "metadata": {},
   "source": [
    "Now, for this part we will be looking at information like, the cheapest cars, cars under a certain price,\n",
    "and any other type of information that might be relevant when considering buying a used car on a tight budget. If you have any ideas of analysis I could do on this type of data please let me know in the comments!"
   ]
  },
  {
   "cell_type": "markdown",
   "metadata": {
    "slideshow": {
     "slide_type": "slide"
    }
   },
   "source": [
    "**Loading the Data**\n",
    "\n",
    "We start by importing some additional packages we will need for visualization as well as loading the data we just saved."
   ]
  },
  {
   "cell_type": "code",
   "execution_count": 34,
   "metadata": {
    "slideshow": {
     "slide_type": "fragment"
    }
   },
   "outputs": [
    {
     "data": {
      "text/html": [
       "<div>\n",
       "<style scoped>\n",
       "    .dataframe tbody tr th:only-of-type {\n",
       "        vertical-align: middle;\n",
       "    }\n",
       "\n",
       "    .dataframe tbody tr th {\n",
       "        vertical-align: top;\n",
       "    }\n",
       "\n",
       "    .dataframe thead th {\n",
       "        text-align: right;\n",
       "    }\n",
       "</style>\n",
       "<table border=\"1\" class=\"dataframe\">\n",
       "  <thead>\n",
       "    <tr style=\"text-align: right;\">\n",
       "      <th></th>\n",
       "      <th>car_price</th>\n",
       "      <th>car_brand</th>\n",
       "      <th>car_model</th>\n",
       "      <th>car_state</th>\n",
       "      <th>mileage</th>\n",
       "      <th>fuel</th>\n",
       "      <th>year</th>\n",
       "      <th>url</th>\n",
       "    </tr>\n",
       "  </thead>\n",
       "  <tbody>\n",
       "    <tr>\n",
       "      <th>0</th>\n",
       "      <td>24990</td>\n",
       "      <td>BMW</td>\n",
       "      <td>116 i Advantage</td>\n",
       "      <td>Usado</td>\n",
       "      <td>36794</td>\n",
       "      <td>Gasolina</td>\n",
       "      <td>2018</td>\n",
       "      <td>https://www.santogal.pt/car-detail/bmw/serie-1...</td>\n",
       "    </tr>\n",
       "    <tr>\n",
       "      <th>1</th>\n",
       "      <td>39990</td>\n",
       "      <td>MERCEDES</td>\n",
       "      <td>A 45 AMG 4-Matic</td>\n",
       "      <td>NaN</td>\n",
       "      <td>29064</td>\n",
       "      <td>Gasolina</td>\n",
       "      <td>2014</td>\n",
       "      <td>https://www.santogal.pt/car-detail/mercedes/cl...</td>\n",
       "    </tr>\n",
       "    <tr>\n",
       "      <th>2</th>\n",
       "      <td>22990</td>\n",
       "      <td>VOLVO</td>\n",
       "      <td>V40 1.5 T3 Sport Edition Geartr...</td>\n",
       "      <td>Usado</td>\n",
       "      <td>47128</td>\n",
       "      <td>Gasolina</td>\n",
       "      <td>2018</td>\n",
       "      <td>https://www.santogal.pt/car-detail/volvo/v40/v...</td>\n",
       "    </tr>\n",
       "    <tr>\n",
       "      <th>3</th>\n",
       "      <td>23990</td>\n",
       "      <td>MINI</td>\n",
       "      <td>Cooper S</td>\n",
       "      <td>Usado</td>\n",
       "      <td>34878</td>\n",
       "      <td>Gasolina</td>\n",
       "      <td>2015</td>\n",
       "      <td>https://www.santogal.pt/car-detail/mini/mini/m...</td>\n",
       "    </tr>\n",
       "    <tr>\n",
       "      <th>4</th>\n",
       "      <td>18490</td>\n",
       "      <td>CITROEN</td>\n",
       "      <td>C4 Cactus 1.2 PureTech OneTone</td>\n",
       "      <td>NaN</td>\n",
       "      <td>62003</td>\n",
       "      <td>Gasolina</td>\n",
       "      <td>2017</td>\n",
       "      <td>https://www.santogal.pt/car-detail/citroen/c4-...</td>\n",
       "    </tr>\n",
       "  </tbody>\n",
       "</table>\n",
       "</div>"
      ],
      "text/plain": [
       "   car_price car_brand                           car_model car_state  mileage  \\\n",
       "0      24990       BMW                     116 i Advantage     Usado    36794   \n",
       "1      39990  MERCEDES                    A 45 AMG 4-Matic       NaN    29064   \n",
       "2      22990     VOLVO  V40 1.5 T3 Sport Edition Geartr...     Usado    47128   \n",
       "3      23990      MINI                            Cooper S     Usado    34878   \n",
       "4      18490   CITROEN      C4 Cactus 1.2 PureTech OneTone       NaN    62003   \n",
       "\n",
       "       fuel  year                                                url  \n",
       "0  Gasolina  2018  https://www.santogal.pt/car-detail/bmw/serie-1...  \n",
       "1  Gasolina  2014  https://www.santogal.pt/car-detail/mercedes/cl...  \n",
       "2  Gasolina  2018  https://www.santogal.pt/car-detail/volvo/v40/v...  \n",
       "3  Gasolina  2015  https://www.santogal.pt/car-detail/mini/mini/m...  \n",
       "4  Gasolina  2017  https://www.santogal.pt/car-detail/citroen/c4-...  "
      ]
     },
     "execution_count": 34,
     "metadata": {},
     "output_type": "execute_result"
    }
   ],
   "source": [
    "import matplotlib.pyplot as plt\n",
    "import seaborn as sns\n",
    "sns.set()\n",
    "\n",
    "car_data = pd.read_csv(\"car_data.csv\")\n",
    "car_data.head()"
   ]
  },
  {
   "cell_type": "markdown",
   "metadata": {},
   "source": [
    "Since I am only interested in cars I decided to write a function here to remove motocyles from the data,\n",
    "since this is only for visualization purposes I decided to leave it here rather than at the data cleaning stage."
   ]
  },
  {
   "cell_type": "code",
   "execution_count": 35,
   "metadata": {
    "slideshow": {
     "slide_type": "slide"
    }
   },
   "outputs": [
    {
     "data": {
      "text/html": [
       "<div>\n",
       "<style scoped>\n",
       "    .dataframe tbody tr th:only-of-type {\n",
       "        vertical-align: middle;\n",
       "    }\n",
       "\n",
       "    .dataframe tbody tr th {\n",
       "        vertical-align: top;\n",
       "    }\n",
       "\n",
       "    .dataframe thead th {\n",
       "        text-align: right;\n",
       "    }\n",
       "</style>\n",
       "<table border=\"1\" class=\"dataframe\">\n",
       "  <thead>\n",
       "    <tr style=\"text-align: right;\">\n",
       "      <th></th>\n",
       "      <th>car_price</th>\n",
       "      <th>car_brand</th>\n",
       "      <th>car_model</th>\n",
       "      <th>car_state</th>\n",
       "      <th>mileage</th>\n",
       "      <th>fuel</th>\n",
       "      <th>year</th>\n",
       "      <th>url</th>\n",
       "    </tr>\n",
       "  </thead>\n",
       "  <tbody>\n",
       "    <tr>\n",
       "      <th>0</th>\n",
       "      <td>24990</td>\n",
       "      <td>BMW</td>\n",
       "      <td>116 i Advantage</td>\n",
       "      <td>Usado</td>\n",
       "      <td>36794</td>\n",
       "      <td>Gasolina</td>\n",
       "      <td>2018</td>\n",
       "      <td>https://www.santogal.pt/car-detail/bmw/serie-1...</td>\n",
       "    </tr>\n",
       "    <tr>\n",
       "      <th>1</th>\n",
       "      <td>39990</td>\n",
       "      <td>MERCEDES</td>\n",
       "      <td>A 45 AMG 4-Matic</td>\n",
       "      <td>NaN</td>\n",
       "      <td>29064</td>\n",
       "      <td>Gasolina</td>\n",
       "      <td>2014</td>\n",
       "      <td>https://www.santogal.pt/car-detail/mercedes/cl...</td>\n",
       "    </tr>\n",
       "    <tr>\n",
       "      <th>2</th>\n",
       "      <td>22990</td>\n",
       "      <td>VOLVO</td>\n",
       "      <td>V40 1.5 T3 Sport Edition Geartr...</td>\n",
       "      <td>Usado</td>\n",
       "      <td>47128</td>\n",
       "      <td>Gasolina</td>\n",
       "      <td>2018</td>\n",
       "      <td>https://www.santogal.pt/car-detail/volvo/v40/v...</td>\n",
       "    </tr>\n",
       "    <tr>\n",
       "      <th>3</th>\n",
       "      <td>23990</td>\n",
       "      <td>MINI</td>\n",
       "      <td>Cooper S</td>\n",
       "      <td>Usado</td>\n",
       "      <td>34878</td>\n",
       "      <td>Gasolina</td>\n",
       "      <td>2015</td>\n",
       "      <td>https://www.santogal.pt/car-detail/mini/mini/m...</td>\n",
       "    </tr>\n",
       "    <tr>\n",
       "      <th>4</th>\n",
       "      <td>18490</td>\n",
       "      <td>CITROEN</td>\n",
       "      <td>C4 Cactus 1.2 PureTech OneTone</td>\n",
       "      <td>NaN</td>\n",
       "      <td>62003</td>\n",
       "      <td>Gasolina</td>\n",
       "      <td>2017</td>\n",
       "      <td>https://www.santogal.pt/car-detail/citroen/c4-...</td>\n",
       "    </tr>\n",
       "  </tbody>\n",
       "</table>\n",
       "</div>"
      ],
      "text/plain": [
       "   car_price car_brand                           car_model car_state  mileage  \\\n",
       "0      24990       BMW                     116 i Advantage     Usado    36794   \n",
       "1      39990  MERCEDES                    A 45 AMG 4-Matic       NaN    29064   \n",
       "2      22990     VOLVO  V40 1.5 T3 Sport Edition Geartr...     Usado    47128   \n",
       "3      23990      MINI                            Cooper S     Usado    34878   \n",
       "4      18490   CITROEN      C4 Cactus 1.2 PureTech OneTone       NaN    62003   \n",
       "\n",
       "       fuel  year                                                url  \n",
       "0  Gasolina  2018  https://www.santogal.pt/car-detail/bmw/serie-1...  \n",
       "1  Gasolina  2014  https://www.santogal.pt/car-detail/mercedes/cl...  \n",
       "2  Gasolina  2018  https://www.santogal.pt/car-detail/volvo/v40/v...  \n",
       "3  Gasolina  2015  https://www.santogal.pt/car-detail/mini/mini/m...  \n",
       "4  Gasolina  2017  https://www.santogal.pt/car-detail/citroen/c4-...  "
      ]
     },
     "execution_count": 35,
     "metadata": {},
     "output_type": "execute_result"
    }
   ],
   "source": [
    "def remove_motos(x):\n",
    "    if \"moto\" in x.lower():\n",
    "        return False\n",
    "    else:\n",
    "        return True\n",
    "\n",
    "car_data = car_data[car_data[\"car_brand\"].apply(remove_motos)]\n",
    "car_data.head()"
   ]
  },
  {
   "cell_type": "markdown",
   "metadata": {},
   "source": [
    "Now let's look at some statistics regarding car prices"
   ]
  },
  {
   "cell_type": "markdown",
   "metadata": {
    "slideshow": {
     "slide_type": "slide"
    }
   },
   "source": [
    "Average and median of car prices"
   ]
  },
  {
   "cell_type": "code",
   "execution_count": 36,
   "metadata": {
    "slideshow": {
     "slide_type": "fragment"
    }
   },
   "outputs": [
    {
     "data": {
      "text/plain": [
       "29240.494587843463"
      ]
     },
     "execution_count": 36,
     "metadata": {},
     "output_type": "execute_result"
    }
   ],
   "source": [
    "car_data[\"car_price\"].mean()"
   ]
  },
  {
   "cell_type": "code",
   "execution_count": 37,
   "metadata": {
    "slideshow": {
     "slide_type": "fragment"
    }
   },
   "outputs": [
    {
     "data": {
      "text/plain": [
       "23490.0"
      ]
     },
     "execution_count": 37,
     "metadata": {},
     "output_type": "execute_result"
    }
   ],
   "source": [
    "car_data[\"car_price\"].median()"
   ]
  },
  {
   "cell_type": "markdown",
   "metadata": {},
   "source": [
    "General statistics for about car prices"
   ]
  },
  {
   "cell_type": "code",
   "execution_count": 38,
   "metadata": {},
   "outputs": [
    {
     "data": {
      "text/plain": [
       "count      1201.000000\n",
       "mean      29240.494588\n",
       "std       16434.262979\n",
       "min        7990.000000\n",
       "25%       18990.000000\n",
       "50%       23490.000000\n",
       "75%       33900.000000\n",
       "max      189900.000000\n",
       "Name: car_price, dtype: float64"
      ]
     },
     "execution_count": 38,
     "metadata": {},
     "output_type": "execute_result"
    }
   ],
   "source": [
    "car_data[\"car_price\"].describe()"
   ]
  },
  {
   "cell_type": "markdown",
   "metadata": {
    "slideshow": {
     "slide_type": "slide"
    }
   },
   "source": [
    "Average price per car of a given year"
   ]
  },
  {
   "cell_type": "code",
   "execution_count": 39,
   "metadata": {
    "slideshow": {
     "slide_type": "slide"
    }
   },
   "outputs": [
    {
     "data": {
      "image/png": "[encoded data removed]",
      "text/plain": [
       "<Figure size 720x504 with 1 Axes>"
      ]
     },
     "metadata": {},
     "output_type": "display_data"
    }
   ],
   "source": [
    "# plot average price of a car belonging to a given year\n",
    "\n",
    "car_data.groupby(\"year\")[\"car_price\"].mean().sort_values().plot(kind='bar', color='darkgreen',\n",
    "                                                  figsize=(10,7),\n",
    "                                                  title=\"Average Price of a Car\\\n",
    " by Year\");"
   ]
  },
  {
   "cell_type": "markdown",
   "metadata": {},
   "source": [
    "Now, since this is my first time buying a car I am not aware of what is the rate of devaluation for cars as the years go by, so I decided to look into that here. "
   ]
  },
  {
   "cell_type": "markdown",
   "metadata": {
    "slideshow": {
     "slide_type": "slide"
    }
   },
   "source": [
    "Now, how about the average car price for different brands? This could help me decide on the ideal car model given my budget."
   ]
  },
  {
   "cell_type": "code",
   "execution_count": 40,
   "metadata": {
    "slideshow": {
     "slide_type": "slide"
    }
   },
   "outputs": [
    {
     "data": {
      "image/png": "[encoded data removed]",
      "text/plain": [
       "<Figure size 720x504 with 1 Axes>"
      ]
     },
     "metadata": {},
     "output_type": "display_data"
    }
   ],
   "source": [
    "# Average car price per brand\n",
    "car_data.groupby(\"car_brand\")[\"car_price\"].mean().sort_values().plot(kind='bar',\n",
    "                                                                     color='darkgreen',\n",
    "                                                                     figsize=(10,7),\n",
    "                                                                     title=\"Average Car\\\n",
    "Price per Brand\");"
   ]
  },
  {
   "cell_type": "markdown",
   "metadata": {
    "slideshow": {
     "slide_type": "slide"
    }
   },
   "source": [
    "Now, I want to look at cars under a certain price to see which options come up."
   ]
  },
  {
   "cell_type": "code",
   "execution_count": 19,
   "metadata": {
    "slideshow": {
     "slide_type": "slide"
    }
   },
   "outputs": [
    {
     "data": {
      "text/html": [
       "<div>\n",
       "<style scoped>\n",
       "    .dataframe tbody tr th:only-of-type {\n",
       "        vertical-align: middle;\n",
       "    }\n",
       "\n",
       "    .dataframe tbody tr th {\n",
       "        vertical-align: top;\n",
       "    }\n",
       "\n",
       "    .dataframe thead th {\n",
       "        text-align: right;\n",
       "    }\n",
       "</style>\n",
       "<table border=\"1\" class=\"dataframe\">\n",
       "  <thead>\n",
       "    <tr style=\"text-align: right;\">\n",
       "      <th></th>\n",
       "      <th>car_price</th>\n",
       "      <th>car_brand</th>\n",
       "      <th>car_model</th>\n",
       "      <th>car_state</th>\n",
       "      <th>mileage</th>\n",
       "      <th>fuel</th>\n",
       "      <th>year</th>\n",
       "      <th>url</th>\n",
       "    </tr>\n",
       "  </thead>\n",
       "  <tbody>\n",
       "    <tr>\n",
       "      <th>8</th>\n",
       "      <td>11990</td>\n",
       "      <td>HONDA</td>\n",
       "      <td>Civic 1.4 i-VTEC S.Edition</td>\n",
       "      <td>Low Cost</td>\n",
       "      <td>88586</td>\n",
       "      <td>Gasolina</td>\n",
       "      <td>2010</td>\n",
       "      <td>https://www.santogal.pt/car-detail/honda/civic...</td>\n",
       "    </tr>\n",
       "    <tr>\n",
       "      <th>80</th>\n",
       "      <td>11990</td>\n",
       "      <td>SMART</td>\n",
       "      <td>Forfour 0.9 Passion 90</td>\n",
       "      <td>NaN</td>\n",
       "      <td>73650</td>\n",
       "      <td>Gasolina</td>\n",
       "      <td>2015</td>\n",
       "      <td>https://www.santogal.pt/car-detail/smart/forfo...</td>\n",
       "    </tr>\n",
       "    <tr>\n",
       "      <th>86</th>\n",
       "      <td>9990</td>\n",
       "      <td>KIA</td>\n",
       "      <td>Rio 1.2 CVVT EX</td>\n",
       "      <td>Usado</td>\n",
       "      <td>114622</td>\n",
       "      <td>Gasolina</td>\n",
       "      <td>2013</td>\n",
       "      <td>https://www.santogal.pt/car-detail/kia/rio/rio...</td>\n",
       "    </tr>\n",
       "    <tr>\n",
       "      <th>94</th>\n",
       "      <td>11990</td>\n",
       "      <td>VOLKSWAGEN</td>\n",
       "      <td>Polo 1.2 TDi Trendline</td>\n",
       "      <td>Usado</td>\n",
       "      <td>101410</td>\n",
       "      <td>Diesel</td>\n",
       "      <td>2012</td>\n",
       "      <td>https://www.santogal.pt/car-detail/volkswagen/...</td>\n",
       "    </tr>\n",
       "    <tr>\n",
       "      <th>102</th>\n",
       "      <td>11990</td>\n",
       "      <td>SEAT</td>\n",
       "      <td>Ibiza SC 1.2 TDi Business</td>\n",
       "      <td>Usado</td>\n",
       "      <td>86738</td>\n",
       "      <td>Diesel</td>\n",
       "      <td>2015</td>\n",
       "      <td>https://www.santogal.pt/car-detail/seat/ibiza/...</td>\n",
       "    </tr>\n",
       "    <tr>\n",
       "      <th>128</th>\n",
       "      <td>11990</td>\n",
       "      <td>FIAT</td>\n",
       "      <td>Panda 1.2 Lounge S S</td>\n",
       "      <td>Usado</td>\n",
       "      <td>89466</td>\n",
       "      <td>Gasolina</td>\n",
       "      <td>2017</td>\n",
       "      <td>https://www.santogal.pt/car-detail/fiat/panda/...</td>\n",
       "    </tr>\n",
       "    <tr>\n",
       "      <th>131</th>\n",
       "      <td>10490</td>\n",
       "      <td>SKODA</td>\n",
       "      <td>Citigo 1.0 Ambition</td>\n",
       "      <td>Usado</td>\n",
       "      <td>83571</td>\n",
       "      <td>Gasolina</td>\n",
       "      <td>2015</td>\n",
       "      <td>https://www.santogal.pt/car-detail/skoda/citig...</td>\n",
       "    </tr>\n",
       "    <tr>\n",
       "      <th>133</th>\n",
       "      <td>7990</td>\n",
       "      <td>CHEVROLET</td>\n",
       "      <td>Spark 1.2 LT</td>\n",
       "      <td>Low Cost</td>\n",
       "      <td>53253</td>\n",
       "      <td>Gasolina</td>\n",
       "      <td>2010</td>\n",
       "      <td>https://www.santogal.pt/car-detail/chevrolet/s...</td>\n",
       "    </tr>\n",
       "    <tr>\n",
       "      <th>203</th>\n",
       "      <td>11600</td>\n",
       "      <td>SEAT</td>\n",
       "      <td>Altea XL 1.6 TDi Copa</td>\n",
       "      <td>Low Cost</td>\n",
       "      <td>116767</td>\n",
       "      <td>Diesel</td>\n",
       "      <td>2011</td>\n",
       "      <td>https://www.santogal.pt/car-detail/seat/altea/...</td>\n",
       "    </tr>\n",
       "    <tr>\n",
       "      <th>225</th>\n",
       "      <td>11490</td>\n",
       "      <td>LANCIA</td>\n",
       "      <td>Delta 1.6 M-Jet Gold</td>\n",
       "      <td>Usado</td>\n",
       "      <td>116817</td>\n",
       "      <td>Diesel</td>\n",
       "      <td>2013</td>\n",
       "      <td>https://www.santogal.pt/car-detail/lancia/delt...</td>\n",
       "    </tr>\n",
       "    <tr>\n",
       "      <th>309</th>\n",
       "      <td>11990</td>\n",
       "      <td>FIAT</td>\n",
       "      <td>Panda 1.2 Lounge S S</td>\n",
       "      <td>Usado</td>\n",
       "      <td>78995</td>\n",
       "      <td>Gasolina</td>\n",
       "      <td>2017</td>\n",
       "      <td>https://www.santogal.pt/car-detail/fiat/panda/...</td>\n",
       "    </tr>\n",
       "    <tr>\n",
       "      <th>737</th>\n",
       "      <td>11990</td>\n",
       "      <td>CITROEN</td>\n",
       "      <td>C1 1.0 VTi Feel</td>\n",
       "      <td>NaN</td>\n",
       "      <td>77416</td>\n",
       "      <td>Gasolina</td>\n",
       "      <td>2015</td>\n",
       "      <td>https://www.santogal.pt/car-detail/citroen/c1/...</td>\n",
       "    </tr>\n",
       "    <tr>\n",
       "      <th>752</th>\n",
       "      <td>11990</td>\n",
       "      <td>CITROEN</td>\n",
       "      <td>C4 1.6 HDi Seduction</td>\n",
       "      <td>Low Cost</td>\n",
       "      <td>120636</td>\n",
       "      <td>Diesel</td>\n",
       "      <td>2012</td>\n",
       "      <td>https://www.santogal.pt/car-detail/citroen/c4/...</td>\n",
       "    </tr>\n",
       "    <tr>\n",
       "      <th>785</th>\n",
       "      <td>11990</td>\n",
       "      <td>VOLKSWAGEN</td>\n",
       "      <td>Up 1.0 BMT Take Up!</td>\n",
       "      <td>Usado</td>\n",
       "      <td>56612</td>\n",
       "      <td>Gasolina</td>\n",
       "      <td>2017</td>\n",
       "      <td>https://www.santogal.pt/car-detail/volkswagen/...</td>\n",
       "    </tr>\n",
       "    <tr>\n",
       "      <th>808</th>\n",
       "      <td>11990</td>\n",
       "      <td>HYUNDAI</td>\n",
       "      <td>i20 1.2 Comfort</td>\n",
       "      <td>Usado</td>\n",
       "      <td>99688</td>\n",
       "      <td>Gasolina</td>\n",
       "      <td>2015</td>\n",
       "      <td>https://www.santogal.pt/car-detail/hyundai/i20...</td>\n",
       "    </tr>\n",
       "    <tr>\n",
       "      <th>845</th>\n",
       "      <td>11490</td>\n",
       "      <td>CITROEN</td>\n",
       "      <td>C3 1.2 PureTech Collection</td>\n",
       "      <td>Usado</td>\n",
       "      <td>98266</td>\n",
       "      <td>Gasolina</td>\n",
       "      <td>2015</td>\n",
       "      <td>https://www.santogal.pt/car-detail/citroen/c3/...</td>\n",
       "    </tr>\n",
       "    <tr>\n",
       "      <th>893</th>\n",
       "      <td>7990</td>\n",
       "      <td>FIAT</td>\n",
       "      <td>Panda 1.2 Lounge 118g</td>\n",
       "      <td>NaN</td>\n",
       "      <td>112017</td>\n",
       "      <td>Gasolina</td>\n",
       "      <td>2014</td>\n",
       "      <td>https://www.santogal.pt/car-detail/fiat/panda/...</td>\n",
       "    </tr>\n",
       "    <tr>\n",
       "      <th>937</th>\n",
       "      <td>11490</td>\n",
       "      <td>VOLKSWAGEN</td>\n",
       "      <td>Polo 1.0 Trendline</td>\n",
       "      <td>Usado</td>\n",
       "      <td>112710</td>\n",
       "      <td>Gasolina</td>\n",
       "      <td>2014</td>\n",
       "      <td>https://www.santogal.pt/car-detail/volkswagen/...</td>\n",
       "    </tr>\n",
       "    <tr>\n",
       "      <th>957</th>\n",
       "      <td>10490</td>\n",
       "      <td>PEUGEOT</td>\n",
       "      <td>108 1.0 VTi Active</td>\n",
       "      <td>Usado</td>\n",
       "      <td>73501</td>\n",
       "      <td>Gasolina</td>\n",
       "      <td>2015</td>\n",
       "      <td>https://www.santogal.pt/car-detail/peugeot/108...</td>\n",
       "    </tr>\n",
       "    <tr>\n",
       "      <th>1056</th>\n",
       "      <td>10990</td>\n",
       "      <td>SEAT</td>\n",
       "      <td>Ibiza 1.2 12V I-Tech</td>\n",
       "      <td>Usado</td>\n",
       "      <td>52188</td>\n",
       "      <td>Gasolina</td>\n",
       "      <td>2015</td>\n",
       "      <td>https://www.santogal.pt/car-detail/seat/ibiza/...</td>\n",
       "    </tr>\n",
       "    <tr>\n",
       "      <th>1057</th>\n",
       "      <td>9990</td>\n",
       "      <td>KIA</td>\n",
       "      <td>Rio 1.2 CVVT EX</td>\n",
       "      <td>Usado</td>\n",
       "      <td>114687</td>\n",
       "      <td>Gasolina</td>\n",
       "      <td>2013</td>\n",
       "      <td>https://www.santogal.pt/car-detail/kia/rio/rio...</td>\n",
       "    </tr>\n",
       "    <tr>\n",
       "      <th>1175</th>\n",
       "      <td>11990</td>\n",
       "      <td>VOLKSWAGEN</td>\n",
       "      <td>Polo 1.2 TDi Trendline</td>\n",
       "      <td>Usado</td>\n",
       "      <td>101466</td>\n",
       "      <td>Diesel</td>\n",
       "      <td>2012</td>\n",
       "      <td>https://www.santogal.pt/car-detail/volkswagen/...</td>\n",
       "    </tr>\n",
       "    <tr>\n",
       "      <th>1193</th>\n",
       "      <td>7990</td>\n",
       "      <td>FIAT</td>\n",
       "      <td>Panda 1.2 Lounge 118g</td>\n",
       "      <td>Usado</td>\n",
       "      <td>112017</td>\n",
       "      <td>Gasolina</td>\n",
       "      <td>2014</td>\n",
       "      <td>https://www.santogal.pt/car-detail/fiat/panda/...</td>\n",
       "    </tr>\n",
       "    <tr>\n",
       "      <th>1197</th>\n",
       "      <td>8490</td>\n",
       "      <td>PEUGEOT</td>\n",
       "      <td>Metropolis</td>\n",
       "      <td>Usado</td>\n",
       "      <td>9</td>\n",
       "      <td>Gasolina</td>\n",
       "      <td>2022</td>\n",
       "      <td>https://www.santogal.pt/car-detail/peugeot/met...</td>\n",
       "    </tr>\n",
       "    <tr>\n",
       "      <th>1203</th>\n",
       "      <td>11990</td>\n",
       "      <td>RENAULT</td>\n",
       "      <td>Clio ST 0.9 TCe Limited Edition</td>\n",
       "      <td>Usado</td>\n",
       "      <td>137570</td>\n",
       "      <td>Gasolina</td>\n",
       "      <td>2017</td>\n",
       "      <td>https://www.santogal.pt/car-detail/renault/cli...</td>\n",
       "    </tr>\n",
       "  </tbody>\n",
       "</table>\n",
       "</div>"
      ],
      "text/plain": [
       "      car_price   car_brand                        car_model car_state  \\\n",
       "8         11990       HONDA       Civic 1.4 i-VTEC S.Edition  Low Cost   \n",
       "80        11990       SMART           Forfour 0.9 Passion 90       NaN   \n",
       "86         9990         KIA                  Rio 1.2 CVVT EX     Usado   \n",
       "94        11990  VOLKSWAGEN           Polo 1.2 TDi Trendline     Usado   \n",
       "102       11990        SEAT        Ibiza SC 1.2 TDi Business     Usado   \n",
       "128       11990        FIAT             Panda 1.2 Lounge S S     Usado   \n",
       "131       10490       SKODA              Citigo 1.0 Ambition     Usado   \n",
       "133        7990   CHEVROLET                     Spark 1.2 LT  Low Cost   \n",
       "203       11600        SEAT            Altea XL 1.6 TDi Copa  Low Cost   \n",
       "225       11490      LANCIA             Delta 1.6 M-Jet Gold     Usado   \n",
       "309       11990        FIAT             Panda 1.2 Lounge S S     Usado   \n",
       "737       11990     CITROEN                  C1 1.0 VTi Feel       NaN   \n",
       "752       11990     CITROEN             C4 1.6 HDi Seduction  Low Cost   \n",
       "785       11990  VOLKSWAGEN              Up 1.0 BMT Take Up!     Usado   \n",
       "808       11990     HYUNDAI                  i20 1.2 Comfort     Usado   \n",
       "845       11490     CITROEN       C3 1.2 PureTech Collection     Usado   \n",
       "893        7990        FIAT            Panda 1.2 Lounge 118g       NaN   \n",
       "937       11490  VOLKSWAGEN               Polo 1.0 Trendline     Usado   \n",
       "957       10490     PEUGEOT               108 1.0 VTi Active     Usado   \n",
       "1056      10990        SEAT             Ibiza 1.2 12V I-Tech     Usado   \n",
       "1057       9990         KIA                  Rio 1.2 CVVT EX     Usado   \n",
       "1175      11990  VOLKSWAGEN           Polo 1.2 TDi Trendline     Usado   \n",
       "1193       7990        FIAT            Panda 1.2 Lounge 118g     Usado   \n",
       "1197       8490     PEUGEOT                       Metropolis     Usado   \n",
       "1203      11990     RENAULT  Clio ST 0.9 TCe Limited Edition     Usado   \n",
       "\n",
       "      mileage      fuel  year  \\\n",
       "8       88586  Gasolina  2010   \n",
       "80      73650  Gasolina  2015   \n",
       "86     114622  Gasolina  2013   \n",
       "94     101410    Diesel  2012   \n",
       "102     86738    Diesel  2015   \n",
       "128     89466  Gasolina  2017   \n",
       "131     83571  Gasolina  2015   \n",
       "133     53253  Gasolina  2010   \n",
       "203    116767    Diesel  2011   \n",
       "225    116817    Diesel  2013   \n",
       "309     78995  Gasolina  2017   \n",
       "737     77416  Gasolina  2015   \n",
       "752    120636    Diesel  2012   \n",
       "785     56612  Gasolina  2017   \n",
       "808     99688  Gasolina  2015   \n",
       "845     98266  Gasolina  2015   \n",
       "893    112017  Gasolina  2014   \n",
       "937    112710  Gasolina  2014   \n",
       "957     73501  Gasolina  2015   \n",
       "1056    52188  Gasolina  2015   \n",
       "1057   114687  Gasolina  2013   \n",
       "1175   101466    Diesel  2012   \n",
       "1193   112017  Gasolina  2014   \n",
       "1197        9  Gasolina  2022   \n",
       "1203   137570  Gasolina  2017   \n",
       "\n",
       "                                                    url  \n",
       "8     https://www.santogal.pt/car-detail/honda/civic...  \n",
       "80    https://www.santogal.pt/car-detail/smart/forfo...  \n",
       "86    https://www.santogal.pt/car-detail/kia/rio/rio...  \n",
       "94    https://www.santogal.pt/car-detail/volkswagen/...  \n",
       "102   https://www.santogal.pt/car-detail/seat/ibiza/...  \n",
       "128   https://www.santogal.pt/car-detail/fiat/panda/...  \n",
       "131   https://www.santogal.pt/car-detail/skoda/citig...  \n",
       "133   https://www.santogal.pt/car-detail/chevrolet/s...  \n",
       "203   https://www.santogal.pt/car-detail/seat/altea/...  \n",
       "225   https://www.santogal.pt/car-detail/lancia/delt...  \n",
       "309   https://www.santogal.pt/car-detail/fiat/panda/...  \n",
       "737   https://www.santogal.pt/car-detail/citroen/c1/...  \n",
       "752   https://www.santogal.pt/car-detail/citroen/c4/...  \n",
       "785   https://www.santogal.pt/car-detail/volkswagen/...  \n",
       "808   https://www.santogal.pt/car-detail/hyundai/i20...  \n",
       "845   https://www.santogal.pt/car-detail/citroen/c3/...  \n",
       "893   https://www.santogal.pt/car-detail/fiat/panda/...  \n",
       "937   https://www.santogal.pt/car-detail/volkswagen/...  \n",
       "957   https://www.santogal.pt/car-detail/peugeot/108...  \n",
       "1056  https://www.santogal.pt/car-detail/seat/ibiza/...  \n",
       "1057  https://www.santogal.pt/car-detail/kia/rio/rio...  \n",
       "1175  https://www.santogal.pt/car-detail/volkswagen/...  \n",
       "1193  https://www.santogal.pt/car-detail/fiat/panda/...  \n",
       "1197  https://www.santogal.pt/car-detail/peugeot/met...  \n",
       "1203  https://www.santogal.pt/car-detail/renault/cli...  "
      ]
     },
     "execution_count": 19,
     "metadata": {},
     "output_type": "execute_result"
    }
   ],
   "source": [
    "# cars under 12000\n",
    "car_data[car_data[\"car_price\"]<12000]"
   ]
  },
  {
   "cell_type": "code",
   "execution_count": 20,
   "metadata": {
    "slideshow": {
     "slide_type": "slide"
    }
   },
   "outputs": [
    {
     "data": {
      "text/html": [
       "<div>\n",
       "<style scoped>\n",
       "    .dataframe tbody tr th:only-of-type {\n",
       "        vertical-align: middle;\n",
       "    }\n",
       "\n",
       "    .dataframe tbody tr th {\n",
       "        vertical-align: top;\n",
       "    }\n",
       "\n",
       "    .dataframe thead th {\n",
       "        text-align: right;\n",
       "    }\n",
       "</style>\n",
       "<table border=\"1\" class=\"dataframe\">\n",
       "  <thead>\n",
       "    <tr style=\"text-align: right;\">\n",
       "      <th></th>\n",
       "      <th>car_price</th>\n",
       "      <th>car_brand</th>\n",
       "      <th>car_model</th>\n",
       "      <th>car_state</th>\n",
       "      <th>mileage</th>\n",
       "      <th>fuel</th>\n",
       "      <th>year</th>\n",
       "      <th>url</th>\n",
       "    </tr>\n",
       "  </thead>\n",
       "  <tbody>\n",
       "    <tr>\n",
       "      <th>86</th>\n",
       "      <td>9990</td>\n",
       "      <td>KIA</td>\n",
       "      <td>Rio 1.2 CVVT EX</td>\n",
       "      <td>Usado</td>\n",
       "      <td>114622</td>\n",
       "      <td>Gasolina</td>\n",
       "      <td>2013</td>\n",
       "      <td>https://www.santogal.pt/car-detail/kia/rio/rio...</td>\n",
       "    </tr>\n",
       "    <tr>\n",
       "      <th>133</th>\n",
       "      <td>7990</td>\n",
       "      <td>CHEVROLET</td>\n",
       "      <td>Spark 1.2 LT</td>\n",
       "      <td>Low Cost</td>\n",
       "      <td>53253</td>\n",
       "      <td>Gasolina</td>\n",
       "      <td>2010</td>\n",
       "      <td>https://www.santogal.pt/car-detail/chevrolet/s...</td>\n",
       "    </tr>\n",
       "    <tr>\n",
       "      <th>893</th>\n",
       "      <td>7990</td>\n",
       "      <td>FIAT</td>\n",
       "      <td>Panda 1.2 Lounge 118g</td>\n",
       "      <td>NaN</td>\n",
       "      <td>112017</td>\n",
       "      <td>Gasolina</td>\n",
       "      <td>2014</td>\n",
       "      <td>https://www.santogal.pt/car-detail/fiat/panda/...</td>\n",
       "    </tr>\n",
       "    <tr>\n",
       "      <th>1057</th>\n",
       "      <td>9990</td>\n",
       "      <td>KIA</td>\n",
       "      <td>Rio 1.2 CVVT EX</td>\n",
       "      <td>Usado</td>\n",
       "      <td>114687</td>\n",
       "      <td>Gasolina</td>\n",
       "      <td>2013</td>\n",
       "      <td>https://www.santogal.pt/car-detail/kia/rio/rio...</td>\n",
       "    </tr>\n",
       "    <tr>\n",
       "      <th>1193</th>\n",
       "      <td>7990</td>\n",
       "      <td>FIAT</td>\n",
       "      <td>Panda 1.2 Lounge 118g</td>\n",
       "      <td>Usado</td>\n",
       "      <td>112017</td>\n",
       "      <td>Gasolina</td>\n",
       "      <td>2014</td>\n",
       "      <td>https://www.santogal.pt/car-detail/fiat/panda/...</td>\n",
       "    </tr>\n",
       "    <tr>\n",
       "      <th>1197</th>\n",
       "      <td>8490</td>\n",
       "      <td>PEUGEOT</td>\n",
       "      <td>Metropolis</td>\n",
       "      <td>Usado</td>\n",
       "      <td>9</td>\n",
       "      <td>Gasolina</td>\n",
       "      <td>2022</td>\n",
       "      <td>https://www.santogal.pt/car-detail/peugeot/met...</td>\n",
       "    </tr>\n",
       "  </tbody>\n",
       "</table>\n",
       "</div>"
      ],
      "text/plain": [
       "      car_price  car_brand              car_model car_state  mileage  \\\n",
       "86         9990        KIA        Rio 1.2 CVVT EX     Usado   114622   \n",
       "133        7990  CHEVROLET           Spark 1.2 LT  Low Cost    53253   \n",
       "893        7990       FIAT  Panda 1.2 Lounge 118g       NaN   112017   \n",
       "1057       9990        KIA        Rio 1.2 CVVT EX     Usado   114687   \n",
       "1193       7990       FIAT  Panda 1.2 Lounge 118g     Usado   112017   \n",
       "1197       8490    PEUGEOT             Metropolis     Usado        9   \n",
       "\n",
       "          fuel  year                                                url  \n",
       "86    Gasolina  2013  https://www.santogal.pt/car-detail/kia/rio/rio...  \n",
       "133   Gasolina  2010  https://www.santogal.pt/car-detail/chevrolet/s...  \n",
       "893   Gasolina  2014  https://www.santogal.pt/car-detail/fiat/panda/...  \n",
       "1057  Gasolina  2013  https://www.santogal.pt/car-detail/kia/rio/rio...  \n",
       "1193  Gasolina  2014  https://www.santogal.pt/car-detail/fiat/panda/...  \n",
       "1197  Gasolina  2022  https://www.santogal.pt/car-detail/peugeot/met...  "
      ]
     },
     "execution_count": 20,
     "metadata": {},
     "output_type": "execute_result"
    }
   ],
   "source": [
    "# cars under 10000\n",
    "car_data[car_data[\"car_price\"]<10000]"
   ]
  },
  {
   "cell_type": "markdown",
   "metadata": {
    "slideshow": {
     "slide_type": "slide"
    }
   },
   "source": [
    "Ok, as we can observe I was able to find quite a few viable options for under 12000 euros.\n",
    "\n",
    "Now, I want to clean the data a bit more to get a more comprehensive number of car models.\n",
    "I had to this because mistakes in describing the car model in the ad description can lead to \n",
    "the same model being considered different when running the data analysis, probably in the future if I streamline this analysis I will move this function to the data cleaning stage."
   ]
  },
  {
   "cell_type": "code",
   "execution_count": 41,
   "metadata": {
    "slideshow": {
     "slide_type": "fragment"
    }
   },
   "outputs": [
    {
     "data": {
      "text/plain": [
       "455"
      ]
     },
     "execution_count": 41,
     "metadata": {},
     "output_type": "execute_result"
    }
   ],
   "source": [
    "def clean_car_model(x):\n",
    "    return \" \".join(x.lower().split()[:3])\n",
    "\n",
    "car_data[\"car_model_clean\"] = car_data[\"car_model\"].apply(clean_car_model)\n",
    "\n",
    "len(car_data[\"car_model_clean\"].unique())"
   ]
  },
  {
   "cell_type": "markdown",
   "metadata": {
    "slideshow": {
     "slide_type": "slide"
    }
   },
   "source": [
    "Now, according to this, we have 455 different types of car models available to purchase, let's plot the average price for models of a given brand."
   ]
  },
  {
   "cell_type": "code",
   "execution_count": 42,
   "metadata": {
    "slideshow": {
     "slide_type": "slide"
    }
   },
   "outputs": [],
   "source": [
    "def plot_price_models_brand(car_data,brand_name):\n",
    "    \"\"\"\n",
    "    Plot the average prices car models belonging to a given brand.\n",
    "    \"\"\"\n",
    "    brand_models = car_data[car_data[\"car_brand\"]==brand_name][\"car_model_clean\"].unique()\n",
    "    avg_price_per_model = []\n",
    "    for model in brand_models:\n",
    "        avg_price_per_model.append(car_data[car_data[\"car_model_clean\"]==model][\n",
    "            \"car_price\"].mean())\n",
    "\n",
    "    df = pd.DataFrame({\"model\":brand_models, \"avg_price\":avg_price_per_model})\n",
    "    # plot sorted prices for each model\n",
    "    df.sort_values(\"avg_price\").plot(kind='bar', x=\"model\", y=\"avg_price\", \n",
    "                                    figsize=(10,7),color=\"darkgreen\",\n",
    "                                    title=f\"Average Prices for {brand_name} Models\");"
   ]
  },
  {
   "cell_type": "code",
   "execution_count": 43,
   "metadata": {
    "slideshow": {
     "slide_type": "slide"
    }
   },
   "outputs": [
    {
     "data": {
      "image/png": "[encoded data removed]",
      "text/plain": [
       "<Figure size 720x504 with 1 Axes>"
      ]
     },
     "metadata": {},
     "output_type": "display_data"
    }
   ],
   "source": [
    "plot_price_models_brand(car_data,\"FIAT\")"
   ]
  },
  {
   "cell_type": "code",
   "execution_count": 44,
   "metadata": {
    "slideshow": {
     "slide_type": "slide"
    }
   },
   "outputs": [
    {
     "data": {
      "image/png": "[encoded data removed]",
      "text/plain": [
       "<Figure size 720x504 with 1 Axes>"
      ]
     },
     "metadata": {},
     "output_type": "display_data"
    }
   ],
   "source": [
    "# plotting for citroen\n",
    "\n",
    "plot_price_models_brand(car_data,'CITROEN')"
   ]
  },
  {
   "cell_type": "code",
   "execution_count": 45,
   "metadata": {},
   "outputs": [
    {
     "data": {
      "image/png": "[encoded data removed]",
      "text/plain": [
       "<Figure size 720x504 with 1 Axes>"
      ]
     },
     "metadata": {},
     "output_type": "display_data"
    }
   ],
   "source": [
    "plot_price_models_brand(car_data, \"KIA\")"
   ]
  },
  {
   "cell_type": "markdown",
   "metadata": {},
   "source": [
    "From these plots I see myself converging to models like the fiat lounge 1.2 or the citroen c1 vti.\n",
    "\n",
    "Of course this is all preliminary and I should run more analysis before reaching any conclusions.\n",
    "\n",
    "\n",
    "# Conclusion\n",
    "\n",
    "For now I think I will stop here, this topic is infinite and one could spend hours doing all sorts of analysis on this data, which is something that I intend to do over the next few weeks so expect a new article soon with updates on this project!\n",
    "\n",
    "If you liked this post, join Medium, follow, subscribe to my newsletter. Also, subscribe to my Youtube channel connect with me on Tiktok, Twitter, LinkedIn and Instagram! Thanks and see you next time! :)"
   ]
  }
 ],
 "metadata": {
  "celltoolbar": "Slideshow",
  "hide_input": false,
  "kernelspec": {
   "display_name": "Python 3 (ipykernel)",
   "language": "python",
   "name": "python3"
  },
  "language_info": {
   "codemirror_mode": {
    "name": "ipython",
    "version": 3
   },
   "file_extension": ".py",
   "mimetype": "text/x-python",
   "name": "python",
   "nbconvert_exporter": "python",
   "pygments_lexer": "ipython3",
   "version": "3.7.0"
  },
  "toc": {
   "base_numbering": 1,
   "nav_menu": {},
   "number_sections": true,
   "sideBar": true,
   "skip_h1_title": false,
   "title_cell": "Table of Contents",
   "title_sidebar": "Contents",
   "toc_cell": false,
   "toc_position": {},
   "toc_section_display": true,
   "toc_window_display": false
  },
  "vscode": {
   "interpreter": {
    "hash": "180f999d9848f1224ab7a40d614ddb7a64ce5dc191baad50ff5b5a373ba31d53"
   }
  }
 },
 "nbformat": 4,
 "nbformat_minor": 4
}
